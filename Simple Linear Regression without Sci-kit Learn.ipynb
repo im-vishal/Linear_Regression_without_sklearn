{
 "cells": [
  {
   "cell_type": "markdown",
   "id": "581612b0",
   "metadata": {},
   "source": [
    "## Importing data & dependencies"
   ]
  },
  {
   "cell_type": "code",
   "execution_count": 1,
   "id": "793bebc3",
   "metadata": {},
   "outputs": [],
   "source": [
    "import numpy as np\n",
    "import pandas as pd\n",
    "import matplotlib.pyplot as plt\n",
    "plt.style.use('fivethirtyeight')\n",
    "df = pd.read_csv('placement.csv')"
   ]
  },
  {
   "cell_type": "markdown",
   "id": "75de7250",
   "metadata": {},
   "source": [
    "## Visualizing the data"
   ]
  },
  {
   "cell_type": "code",
   "execution_count": 2,
   "id": "9daca52f",
   "metadata": {},
   "outputs": [
    {
     "data": {
      "text/html": [
       "<div>\n",
       "<style scoped>\n",
       "    .dataframe tbody tr th:only-of-type {\n",
       "        vertical-align: middle;\n",
       "    }\n",
       "\n",
       "    .dataframe tbody tr th {\n",
       "        vertical-align: top;\n",
       "    }\n",
       "\n",
       "    .dataframe thead th {\n",
       "        text-align: right;\n",
       "    }\n",
       "</style>\n",
       "<table border=\"1\" class=\"dataframe\">\n",
       "  <thead>\n",
       "    <tr style=\"text-align: right;\">\n",
       "      <th></th>\n",
       "      <th>cgpa</th>\n",
       "      <th>package</th>\n",
       "    </tr>\n",
       "  </thead>\n",
       "  <tbody>\n",
       "    <tr>\n",
       "      <th>0</th>\n",
       "      <td>6.89</td>\n",
       "      <td>3.26</td>\n",
       "    </tr>\n",
       "    <tr>\n",
       "      <th>1</th>\n",
       "      <td>5.12</td>\n",
       "      <td>1.98</td>\n",
       "    </tr>\n",
       "    <tr>\n",
       "      <th>2</th>\n",
       "      <td>7.82</td>\n",
       "      <td>3.25</td>\n",
       "    </tr>\n",
       "    <tr>\n",
       "      <th>3</th>\n",
       "      <td>7.42</td>\n",
       "      <td>3.67</td>\n",
       "    </tr>\n",
       "    <tr>\n",
       "      <th>4</th>\n",
       "      <td>6.94</td>\n",
       "      <td>3.57</td>\n",
       "    </tr>\n",
       "  </tbody>\n",
       "</table>\n",
       "</div>"
      ],
      "text/plain": [
       "   cgpa  package\n",
       "0  6.89     3.26\n",
       "1  5.12     1.98\n",
       "2  7.82     3.25\n",
       "3  7.42     3.67\n",
       "4  6.94     3.57"
      ]
     },
     "execution_count": 2,
     "metadata": {},
     "output_type": "execute_result"
    }
   ],
   "source": [
    "df.head()"
   ]
  },
  {
   "cell_type": "code",
   "execution_count": 3,
   "id": "dd6edbb5",
   "metadata": {},
   "outputs": [],
   "source": [
    "X = np.array(df[['cgpa']])\n",
    "y = np.array(df[['package']])"
   ]
  },
  {
   "cell_type": "code",
   "execution_count": 4,
   "id": "6e752b21",
   "metadata": {},
   "outputs": [
    {
     "data": {
      "image/png": "[encoded data removed]",
      "text/plain": [
       "<Figure size 432x288 with 1 Axes>"
      ]
     },
     "metadata": {},
     "output_type": "display_data"
    }
   ],
   "source": [
    "plt.scatter(X, y)\n",
    "plt.xlabel('CGPA')\n",
    "plt.ylabel('Package')\n",
    "plt.show()"
   ]
  },
  {
   "cell_type": "code",
   "execution_count": 5,
   "id": "b3e98d09",
   "metadata": {},
   "outputs": [
    {
     "name": "stdout",
     "output_type": "stream",
     "text": [
      "Mean for CGPA is: 6.990500000000001 and Mean for Package is: 2.9960500000000003\n"
     ]
    }
   ],
   "source": [
    "X_mean = np.mean(X)\n",
    "y_mean = np.mean(y)\n",
    "print('Mean for CGPA is:', X_mean, \"and Mean for Package is:\", y_mean)"
   ]
  },
  {
   "cell_type": "markdown",
   "id": "ea318f88",
   "metadata": {},
   "source": [
    "## To calculate value of coefficient and intercept"
   ]
  },
  {
   "cell_type": "code",
   "execution_count": 6,
   "id": "6f400234",
   "metadata": {},
   "outputs": [
    {
     "name": "stdout",
     "output_type": "stream",
     "text": [
      "Coefficient is 0.5695912947937534 \n",
      "Intercept is  -0.9856779462557332\n"
     ]
    }
   ],
   "source": [
    "num = 0\n",
    "den = 0\n",
    "for i in range(len(X)):\n",
    "    num += (X[i] - X_mean)*(y[i] - y_mean)\n",
    "    den += (X[i] - X_mean) ** 2\n",
    "\n",
    "m = num / den\n",
    "b = y_mean - (m * X_mean)\n",
    "\n",
    "print(\"Coefficient is\", float(m),\"\\nIntercept is \", float(b))\n"
   ]
  },
  {
   "cell_type": "markdown",
   "id": "02151ca9",
   "metadata": {},
   "source": [
    "# Predicting using the m & b"
   ]
  },
  {
   "cell_type": "code",
   "execution_count": 7,
   "id": "e96c1e7f",
   "metadata": {},
   "outputs": [],
   "source": [
    "y_pred = m * X + b"
   ]
  },
  {
   "cell_type": "code",
   "execution_count": 8,
   "id": "1385a5d7",
   "metadata": {},
   "outputs": [
    {
     "data": {
      "text/plain": [
       "array([[2.93880607],\n",
       "       [1.93062948],\n",
       "       [3.46852598],\n",
       "       [3.24068946],\n",
       "       [2.96728564],\n",
       "       [3.50839737],\n",
       "       [2.84767147],\n",
       "       [2.85906329],\n",
       "       [2.48313304],\n",
       "       [3.74762571],\n",
       "       [2.04454774],\n",
       "       [2.77932051],\n",
       "       [4.10646823],\n",
       "       [2.96158973],\n",
       "       [3.41726276],\n",
       "       [3.14385894],\n",
       "       [2.91032651],\n",
       "       [2.07872322],\n",
       "       [2.96728564],\n",
       "       [3.27486494],\n",
       "       [3.16094668],\n",
       "       [2.91602242],\n",
       "       [2.5116126 ],\n",
       "       [2.54009217],\n",
       "       [2.73375321],\n",
       "       [3.16094668],\n",
       "       [3.74762571],\n",
       "       [2.10150687],\n",
       "       [2.39769434],\n",
       "       [3.08689981],\n",
       "       [3.20651398],\n",
       "       [3.62801154],\n",
       "       [2.97867747],\n",
       "       [2.63122678],\n",
       "       [3.19512216],\n",
       "       [2.92741425],\n",
       "       [2.42617391],\n",
       "       [2.37491069],\n",
       "       [3.92419901],\n",
       "       [3.24638537],\n",
       "       [4.3570884 ],\n",
       "       [2.93880607],\n",
       "       [2.40339026],\n",
       "       [3.37739137],\n",
       "       [1.91354174],\n",
       "       [3.49700554],\n",
       "       [2.47174121],\n",
       "       [2.34073522],\n",
       "       [3.92989493],\n",
       "       [4.06659684],\n",
       "       [4.47100666],\n",
       "       [4.28873744],\n",
       "       [3.78180119],\n",
       "       [2.69957773],\n",
       "       [2.92171834],\n",
       "       [3.68497067],\n",
       "       [2.34073522],\n",
       "       [2.7736246 ],\n",
       "       [2.95589381],\n",
       "       [3.32043224],\n",
       "       [2.20972922],\n",
       "       [2.13568235],\n",
       "       [2.62553086],\n",
       "       [4.23177831],\n",
       "       [3.20651398],\n",
       "       [3.34321589],\n",
       "       [1.92493357],\n",
       "       [2.72236138],\n",
       "       [3.32043224],\n",
       "       [3.17233851],\n",
       "       [2.31225565],\n",
       "       [3.26916903],\n",
       "       [3.44574233],\n",
       "       [3.82167258],\n",
       "       [2.91602242],\n",
       "       [2.98437338],\n",
       "       [2.96728564],\n",
       "       [4.13494779],\n",
       "       [2.76792869],\n",
       "       [3.10398755],\n",
       "       [3.36030363],\n",
       "       [2.48882895],\n",
       "       [2.19264148],\n",
       "       [3.82167258],\n",
       "       [1.44078097],\n",
       "       [1.74266436],\n",
       "       [3.34891181],\n",
       "       [3.62231563],\n",
       "       [1.70848888],\n",
       "       [2.67109817],\n",
       "       [3.06411616],\n",
       "       [2.55717991],\n",
       "       [3.51409328],\n",
       "       [2.88184695],\n",
       "       [2.3350393 ],\n",
       "       [2.79071234],\n",
       "       [3.06411616],\n",
       "       [2.420478  ],\n",
       "       [3.39447911],\n",
       "       [2.77932051],\n",
       "       [3.54257285],\n",
       "       [2.83627964],\n",
       "       [1.9363254 ],\n",
       "       [3.02994068],\n",
       "       [3.35460772],\n",
       "       [2.80780008],\n",
       "       [2.50591669],\n",
       "       [2.61983495],\n",
       "       [3.4343505 ],\n",
       "       [3.44004641],\n",
       "       [3.67357885],\n",
       "       [2.10150687],\n",
       "       [3.90141536],\n",
       "       [2.96728564],\n",
       "       [2.34073522],\n",
       "       [3.77040937],\n",
       "       [4.16342736],\n",
       "       [3.06981207],\n",
       "       [3.22929764],\n",
       "       [3.22360172],\n",
       "       [1.99328453],\n",
       "       [2.71666547],\n",
       "       [1.93062948],\n",
       "       [1.91923766],\n",
       "       [2.4660453 ],\n",
       "       [3.18942624],\n",
       "       [2.38060661],\n",
       "       [2.87615103],\n",
       "       [3.53118102],\n",
       "       [3.16664259],\n",
       "       [2.8191919 ],\n",
       "       [2.6426186 ],\n",
       "       [2.34073522],\n",
       "       [2.46034939],\n",
       "       [3.11537938],\n",
       "       [2.48882895],\n",
       "       [2.22681696],\n",
       "       [3.0812039 ],\n",
       "       [3.5197892 ],\n",
       "       [3.10968346],\n",
       "       [3.5197892 ],\n",
       "       [2.86475921],\n",
       "       [2.96158973],\n",
       "       [1.77683983],\n",
       "       [2.52870034],\n",
       "       [2.34073522],\n",
       "       [2.47174121],\n",
       "       [2.23820878],\n",
       "       [3.32612816],\n",
       "       [3.73053797],\n",
       "       [2.60274721],\n",
       "       [2.50022078],\n",
       "       [3.2122099 ],\n",
       "       [3.53687693],\n",
       "       [3.04702842],\n",
       "       [2.99006929],\n",
       "       [3.21790581],\n",
       "       [2.69957773],\n",
       "       [2.40339026],\n",
       "       [3.97546223],\n",
       "       [3.07550799],\n",
       "       [3.17233851],\n",
       "       [2.16416191],\n",
       "       [4.10077232],\n",
       "       [4.17481918],\n",
       "       [3.69066658],\n",
       "       [3.91280719],\n",
       "       [3.64509928],\n",
       "       [3.94128675],\n",
       "       [4.31721701],\n",
       "       [2.55717991],\n",
       "       [3.57674833],\n",
       "       [2.96158973],\n",
       "       [2.85906329],\n",
       "       [3.18373033],\n",
       "       [3.02424477],\n",
       "       [2.5970513 ],\n",
       "       [3.05272433],\n",
       "       [3.65649111],\n",
       "       [3.0812039 ],\n",
       "       [2.54009217],\n",
       "       [3.6963625 ],\n",
       "       [2.36351887],\n",
       "       [3.16094668],\n",
       "       [3.50270146],\n",
       "       [2.60844312],\n",
       "       [3.4799178 ],\n",
       "       [2.57996356],\n",
       "       [3.20081807],\n",
       "       [3.63370745],\n",
       "       [2.54009217],\n",
       "       [3.16094668],\n",
       "       [3.71345024],\n",
       "       [1.61735427],\n",
       "       [3.50839737],\n",
       "       [2.96158973],\n",
       "       [2.36921478],\n",
       "       [3.12107529],\n",
       "       [3.36030363],\n",
       "       [2.55717991]])"
      ]
     },
     "execution_count": 8,
     "metadata": {},
     "output_type": "execute_result"
    }
   ],
   "source": [
    "y_pred"
   ]
  },
  {
   "cell_type": "markdown",
   "id": "ab1170cf",
   "metadata": {},
   "source": [
    "# Visualizing the line of Linear Regression"
   ]
  },
  {
   "cell_type": "code",
   "execution_count": 9,
   "id": "1fad8490",
   "metadata": {
    "scrolled": true
   },
   "outputs": [
    {
     "data": {
      "image/png": "[encoded data removed]",
      "text/plain": [
       "<Figure size 432x288 with 1 Axes>"
      ]
     },
     "metadata": {},
     "output_type": "display_data"
    }
   ],
   "source": [
    "plt.scatter(X, y, c='red')\n",
    "plt.plot(X, y_pred)\n",
    "plt.show()"
   ]
  },
  {
   "cell_type": "markdown",
   "id": "87862b4d",
   "metadata": {},
   "source": [
    "## Calculating R-square\n",
    "R-square = 1 - (SSR / SST)"
   ]
  },
  {
   "cell_type": "code",
   "execution_count": 10,
   "id": "2b8b0e1b",
   "metadata": {},
   "outputs": [
    {
     "name": "stdout",
     "output_type": "stream",
     "text": [
      "The value of coefficient of determination R_Square is  0.7756192256051151\n"
     ]
    }
   ],
   "source": [
    "num_r = 0\n",
    "den_r = 0\n",
    "for i in range(len(X)):\n",
    "    num_r += (y[i] - y_pred[i]) ** 2\n",
    "    den_r += (y[i] - y_mean) ** 2\n",
    "\n",
    "r_sq = 1 - (num_r / den_r)\n",
    "\n",
    "print(\"The value of coefficient of determination R_Square is \", float(r_sq))"
   ]
  },
  {
   "cell_type": "code",
   "execution_count": null,
   "id": "88a6560b",
   "metadata": {},
   "outputs": [],
   "source": []
  }
 ],
 "metadata": {
  "kernelspec": {
   "display_name": "Python 3 (ipykernel)",
   "language": "python",
   "name": "python3"
  },
  "language_info": {
   "codemirror_mode": {
    "name": "ipython",
    "version": 3
   },
   "file_extension": ".py",
   "mimetype": "text/x-python",
   "name": "python",
   "nbconvert_exporter": "python",
   "pygments_lexer": "ipython3",
   "version": "3.9.12"
  }
 },
 "nbformat": 4,
 "nbformat_minor": 5
}
